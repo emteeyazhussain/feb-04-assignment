{
 "cells": [
  {
   "cell_type": "code",
   "execution_count": 1,
   "metadata": {},
   "outputs": [
    {
     "name": "stdout",
     "output_type": "stream",
     "text": [
      "[('virat kohli', 24936), ('jack kallis', 25534), ('Ricky pointing ', 27483), ('sachin Tendulkar', 34357)]\n"
     ]
    }
   ],
   "source": [
    "# QUESTION:1 \n",
    "l= [(\"sachin Tendulkar\",34357),(\"Ricky pointing \",27483),(\"jack kallis\",25534),(\"virat kohli\",24936)]\n",
    "l.sort(key= lambda x: x[1])\n",
    "print(l)\n"
   ]
  },
  {
   "cell_type": "code",
   "execution_count": 2,
   "metadata": {},
   "outputs": [
    {
     "name": "stdout",
     "output_type": "stream",
     "text": [
      "[1, 4, 9, 16, 25, 36, 49, 64, 81, 100]\n"
     ]
    }
   ],
   "source": [
    "# QUESTION:2 \n",
    "l =[1,2,3,4,5,6,7,8,9,10]\n",
    "sqr=list(map(lambda x : x**2 , l))\n",
    "print(sqr)"
   ]
  },
  {
   "cell_type": "code",
   "execution_count": 3,
   "metadata": {},
   "outputs": [
    {
     "name": "stdout",
     "output_type": "stream",
     "text": [
      "('1', '2', '3', '4', '5', '6', '7', '8', '9', '10')\n"
     ]
    }
   ],
   "source": [
    "# QUESTION:3\n",
    "given_string = [1,2,3,4,5,6,7,8,9,10]\n",
    "given = tuple(map(lambda s : s.__str__(), given_string))\n",
    "print(given)"
   ]
  },
  {
   "cell_type": "code",
   "execution_count": 4,
   "metadata": {},
   "outputs": [
    {
     "name": "stdout",
     "output_type": "stream",
     "text": [
      "15511210043330985984000000\n"
     ]
    }
   ],
   "source": [
    "# QUESTION:4\n",
    "from functools import  reduce\n",
    "given_list= [1,2,3,4,5,6,7,8,9,10,11,12,13,14,15,16,17,18,19,20,21,22,23,24,25]\n",
    "total = reduce (lambda x,y: x*y,given_list)\n",
    "print(total)"
   ]
  },
  {
   "cell_type": "code",
   "execution_count": 5,
   "metadata": {},
   "outputs": [
    {
     "name": "stdout",
     "output_type": "stream",
     "text": [
      "the number divisible for 2 is =  [6, 60, 90, 120, 46]\n",
      "the number divisible for 3 is =  [23, 27, 55]\n"
     ]
    }
   ],
   "source": [
    "# QUESTION:5\n",
    "fltr = [23,6,27,60,90,120,55,46]\n",
    "dvsbl_two= list(filter(lambda x : x % 2 == 0 , fltr))\n",
    "dvsbl_three= list(filter(lambda x : x %2 != 0,fltr))\n",
    "\n",
    "print(\"the number divisible for 2 is = \",dvsbl_two)\n",
    "print(\"the number divisible for 3 is = \",dvsbl_three)\n"
   ]
  },
  {
   "cell_type": "code",
   "execution_count": 6,
   "metadata": {},
   "outputs": [
    {
     "name": "stdout",
     "output_type": "stream",
     "text": [
      "['php', 'aba', 'radar', 'level']\n"
     ]
    }
   ],
   "source": [
    "\n",
    "# QUESTION:6\n",
    "pgm = ['python','php','aba','radar','level']\n",
    "find= list(filter(lambda x : (x ==''.join(reversed(x))) , pgm))\n",
    "print(find)\n"
   ]
  },
  {
   "cell_type": "code",
   "execution_count": null,
   "metadata": {},
   "outputs": [],
   "source": []
  }
 ],
 "metadata": {
  "kernelspec": {
   "display_name": "Python 3",
   "language": "python",
   "name": "python3"
  },
  "language_info": {
   "codemirror_mode": {
    "name": "ipython",
    "version": 3
   },
   "file_extension": ".py",
   "mimetype": "text/x-python",
   "name": "python",
   "nbconvert_exporter": "python",
   "pygments_lexer": "ipython3",
   "version": "3.11.0"
  },
  "orig_nbformat": 4,
  "vscode": {
   "interpreter": {
    "hash": "c261aea317cc0286b3b3261fbba9abdec21eaa57589985bb7a274bf54d6cc0a7"
   }
  }
 },
 "nbformat": 4,
 "nbformat_minor": 2
}
